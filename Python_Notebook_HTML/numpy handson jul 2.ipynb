{
 "cells": [
  {
   "cell_type": "code",
   "execution_count": 1,
   "id": "325b2668",
   "metadata": {},
   "outputs": [],
   "source": [
    "#1. Create a numpy array with numpy.array module and with a data type integer and float.\n"
   ]
  },
  {
   "cell_type": "code",
   "execution_count": 2,
   "id": "b7cea1e3",
   "metadata": {},
   "outputs": [],
   "source": [
    "import numpy as np"
   ]
  },
  {
   "cell_type": "code",
   "execution_count": 3,
   "id": "fe948ad5",
   "metadata": {},
   "outputs": [
    {
     "name": "stdout",
     "output_type": "stream",
     "text": [
      "[20.  21.  45.  70.  55.6 77.8]\n"
     ]
    }
   ],
   "source": [
    "arr1 = np.array([20,21,45,70,55.6,77.8])\n",
    "print(arr1)"
   ]
  },
  {
   "cell_type": "code",
   "execution_count": 4,
   "id": "fea2fceb",
   "metadata": {},
   "outputs": [],
   "source": [
    "##2. Create numpy arrays that have zero, one, two, three, Four dimensions respectively.\n",
    "##Also, print the shape and dimensions of the numpy arrays created above"
   ]
  },
  {
   "cell_type": "code",
   "execution_count": 5,
   "id": "1bc2a46d",
   "metadata": {},
   "outputs": [
    {
     "name": "stdout",
     "output_type": "stream",
     "text": [
      "printing the shape of numpy array\n",
      "()\n",
      "dimension of the numpy array\n",
      "0\n"
     ]
    }
   ],
   "source": [
    "a = np.array(1)\n",
    "print(\"printing the shape of numpy array\")\n",
    "print(a.shape)\n",
    "print(\"dimension of the numpy array\")\n",
    "print(a.ndim)"
   ]
  },
  {
   "cell_type": "code",
   "execution_count": 6,
   "id": "ae9db797",
   "metadata": {},
   "outputs": [
    {
     "name": "stdout",
     "output_type": "stream",
     "text": [
      "[1 2 3 4 5 6]\n",
      "(6,)\n",
      "1\n"
     ]
    }
   ],
   "source": [
    "## one d\n",
    "arr2 = np.array([1,2,3,4,5,6])\n",
    "print(arr2)\n",
    "print(arr2.shape)\n",
    "print(arr2.ndim)"
   ]
  },
  {
   "cell_type": "code",
   "execution_count": 7,
   "id": "15fa3b69",
   "metadata": {},
   "outputs": [
    {
     "name": "stdout",
     "output_type": "stream",
     "text": [
      "[[1 2 3]\n",
      " [4 5 6]]\n",
      "(2, 3)\n",
      "2\n"
     ]
    }
   ],
   "source": [
    "## two d\n",
    "arr3 = np.array([[1,2,3],[4,5,6]])\n",
    "print(arr3)\n",
    "print(arr3.shape)\n",
    "print(arr3.ndim)"
   ]
  },
  {
   "cell_type": "code",
   "execution_count": 8,
   "id": "43d9330b",
   "metadata": {},
   "outputs": [
    {
     "name": "stdout",
     "output_type": "stream",
     "text": [
      "[[[1 2 3]\n",
      "  [4 5 6]]]\n",
      "(1, 2, 3)\n",
      "3\n"
     ]
    }
   ],
   "source": [
    "### 3 d\n",
    "arr4 = np.array([[[1,2,3],[4,5,6]]])\n",
    "print(arr4)\n",
    "print(arr4.shape)\n",
    "print(arr4.ndim)"
   ]
  },
  {
   "cell_type": "code",
   "execution_count": 11,
   "id": "a45b9e75",
   "metadata": {},
   "outputs": [],
   "source": [
    "##Four dimensions home task"
   ]
  },
  {
   "cell_type": "code",
   "execution_count": 17,
   "id": "8e7d5b7f",
   "metadata": {},
   "outputs": [],
   "source": [
    "##3. Create a 2x2, 3x3, and 4x4 identity matrix using numpy"
   ]
  },
  {
   "cell_type": "code",
   "execution_count": 18,
   "id": "a3c6cb36",
   "metadata": {},
   "outputs": [
    {
     "name": "stdout",
     "output_type": "stream",
     "text": [
      "[[1. 0.]\n",
      " [0. 1.]]\n"
     ]
    }
   ],
   "source": [
    "## 2 * 2 matrix\n",
    "arr1 = np.identity(2)\n",
    "print(arr1)"
   ]
  },
  {
   "cell_type": "code",
   "execution_count": 21,
   "id": "81d3ab7c",
   "metadata": {},
   "outputs": [
    {
     "name": "stdout",
     "output_type": "stream",
     "text": [
      "[[1. 0. 0.]\n",
      " [0. 1. 0.]\n",
      " [0. 0. 1.]]\n"
     ]
    }
   ],
   "source": [
    "## 3 *3 \n",
    "arr2 = np.identity(3)\n",
    "print(arr2)\n"
   ]
  },
  {
   "cell_type": "code",
   "execution_count": 25,
   "id": "5b1f83c3",
   "metadata": {},
   "outputs": [
    {
     "name": "stdout",
     "output_type": "stream",
     "text": [
      "[[1. 0. 0. 0.]\n",
      " [0. 1. 0. 0.]\n",
      " [0. 0. 1. 0.]\n",
      " [0. 0. 0. 1.]]\n"
     ]
    }
   ],
   "source": [
    "## 4 * 4\n",
    "arr2 = np.identity(4)\n",
    "print(arr2)"
   ]
  },
  {
   "cell_type": "code",
   "execution_count": 23,
   "id": "8366f061",
   "metadata": {},
   "outputs": [
    {
     "name": "stdout",
     "output_type": "stream",
     "text": [
      "float64\n"
     ]
    }
   ],
   "source": [
    "print(arr2.dtype)"
   ]
  },
  {
   "cell_type": "code",
   "execution_count": 26,
   "id": "a7049de3",
   "metadata": {},
   "outputs": [],
   "source": [
    "## convert float into int"
   ]
  },
  {
   "cell_type": "code",
   "execution_count": 27,
   "id": "18a301e5",
   "metadata": {},
   "outputs": [
    {
     "data": {
      "text/plain": [
       "array([[1, 0, 0, 0],\n",
       "       [0, 1, 0, 0],\n",
       "       [0, 0, 1, 0],\n",
       "       [0, 0, 0, 1]])"
      ]
     },
     "execution_count": 27,
     "metadata": {},
     "output_type": "execute_result"
    }
   ],
   "source": [
    "arr4= arr2.astype('int')\n",
    "arr4"
   ]
  },
  {
   "cell_type": "code",
   "execution_count": 28,
   "id": "533c212d",
   "metadata": {},
   "outputs": [
    {
     "name": "stdout",
     "output_type": "stream",
     "text": [
      "int32\n"
     ]
    }
   ],
   "source": [
    "print(arr4.dtype)"
   ]
  },
  {
   "cell_type": "code",
   "execution_count": 29,
   "id": "62e0f2d7",
   "metadata": {},
   "outputs": [],
   "source": [
    "##4. Create a numpy array with shape 2x5 that has all the elements as zero."
   ]
  },
  {
   "cell_type": "code",
   "execution_count": 30,
   "id": "06729b2c",
   "metadata": {},
   "outputs": [
    {
     "name": "stdout",
     "output_type": "stream",
     "text": [
      "[[0 0 0 0 0]\n",
      " [0 0 0 0 0]]\n"
     ]
    }
   ],
   "source": [
    "arr1 = np.zeros([2,5],dtype = 'int')\n",
    "print(arr1)"
   ]
  },
  {
   "cell_type": "code",
   "execution_count": 31,
   "id": "3986ef6c",
   "metadata": {},
   "outputs": [
    {
     "name": "stdout",
     "output_type": "stream",
     "text": [
      "[[0. 0. 0. 0. 0.]\n",
      " [0. 0. 0. 0. 0.]]\n"
     ]
    }
   ],
   "source": [
    "arr1 = np.zeros([2,5],dtype = 'float')\n",
    "print(arr1)"
   ]
  },
  {
   "cell_type": "code",
   "execution_count": 32,
   "id": "7354be7f",
   "metadata": {},
   "outputs": [],
   "source": [
    "#5. Create a numpy array that has the shape 3x5 and all the elements are 5."
   ]
  },
  {
   "cell_type": "code",
   "execution_count": 34,
   "id": "a3e5a7d0",
   "metadata": {},
   "outputs": [
    {
     "name": "stdout",
     "output_type": "stream",
     "text": [
      "[[5 5 5 5 5]\n",
      " [5 5 5 5 5]\n",
      " [5 5 5 5 5]]\n"
     ]
    }
   ],
   "source": [
    "A = np.full([3,5],5)\n",
    "print(A)"
   ]
  },
  {
   "cell_type": "code",
   "execution_count": 35,
   "id": "df595105",
   "metadata": {},
   "outputs": [],
   "source": [
    "##6. Create a numpy array with random integers in the range 0-100, and the sample size\n",
    "##should be 25.\n"
   ]
  },
  {
   "cell_type": "code",
   "execution_count": 36,
   "id": "91cb3f10",
   "metadata": {},
   "outputs": [],
   "source": [
    "## randint"
   ]
  },
  {
   "cell_type": "code",
   "execution_count": 43,
   "id": "1c6cf588",
   "metadata": {},
   "outputs": [
    {
     "name": "stdout",
     "output_type": "stream",
     "text": [
      "[16 46 49 82 24 86  1 96 68 43 29 37 16 97 30 13 18 37 14 80 97 52 56 65\n",
      " 47]\n"
     ]
    }
   ],
   "source": [
    "arr1 =  np.random.randint(0,100, size= 25)\n",
    "print(arr1)"
   ]
  },
  {
   "cell_type": "code",
   "execution_count": 47,
   "id": "877a4da0",
   "metadata": {},
   "outputs": [
    {
     "name": "stdout",
     "output_type": "stream",
     "text": [
      "[ 3 22 74 12 66]\n"
     ]
    }
   ],
   "source": [
    "arr1 =  np.random.randint(0,100, size= 5)\n",
    "print(arr1)"
   ]
  },
  {
   "cell_type": "code",
   "execution_count": 48,
   "id": "c4298df5",
   "metadata": {},
   "outputs": [],
   "source": [
    "#7. Create a numpy array with a shape 3x3 that has all elements as 1.\n"
   ]
  },
  {
   "cell_type": "code",
   "execution_count": 51,
   "id": "ff582c00",
   "metadata": {},
   "outputs": [
    {
     "name": "stdout",
     "output_type": "stream",
     "text": [
      "[[1 1 1]\n",
      " [1 1 1]\n",
      " [1 1 1]]\n"
     ]
    }
   ],
   "source": [
    "arr1 = np.full((3,3),1)\n",
    "print(arr1)"
   ]
  },
  {
   "cell_type": "code",
   "execution_count": 52,
   "id": "d7db5dca",
   "metadata": {},
   "outputs": [],
   "source": [
    "##8. Create a numpy array in the shape 2x3 with random integers in the range 0-100.\n",
    "##Reshape the array in the shape 3x2 and print the updated shape of the resultant array"
   ]
  },
  {
   "cell_type": "code",
   "execution_count": 53,
   "id": "5cc0411f",
   "metadata": {},
   "outputs": [
    {
     "name": "stdout",
     "output_type": "stream",
     "text": [
      "[[82  1 96]\n",
      " [97  7 88]]\n"
     ]
    }
   ],
   "source": [
    "arr1 = np.random.randint(0,101,(2,3))\n",
    "print(arr1)"
   ]
  },
  {
   "cell_type": "code",
   "execution_count": 57,
   "id": "8c2441bf",
   "metadata": {},
   "outputs": [
    {
     "name": "stdout",
     "output_type": "stream",
     "text": [
      "[[10 14 73]\n",
      " [44 90 97]]\n"
     ]
    }
   ],
   "source": [
    "arr1 = np.random.randint(0,101,(2,3))\n",
    "print(arr1)"
   ]
  },
  {
   "cell_type": "code",
   "execution_count": 58,
   "id": "5a094215",
   "metadata": {},
   "outputs": [
    {
     "name": "stdout",
     "output_type": "stream",
     "text": [
      "[[10 14]\n",
      " [73 44]\n",
      " [90 97]]\n"
     ]
    }
   ],
   "source": [
    "print(arr1.reshape(3,2))\n"
   ]
  },
  {
   "cell_type": "code",
   "execution_count": 59,
   "id": "cb82a5d9",
   "metadata": {},
   "outputs": [],
   "source": [
    "##9. Create a random array, with the range 0-1000, with a size 50 and step 2. Perform the\n",
    "#following operations on the same.\n",
    "#a. Print the first ten elements of the array.\n"
   ]
  },
  {
   "cell_type": "code",
   "execution_count": 75,
   "id": "2386c14f",
   "metadata": {},
   "outputs": [
    {
     "name": "stdout",
     "output_type": "stream",
     "text": [
      "[   0    2    4    6    8   10   12   14   16   18   20   22   24   26\n",
      "   28   30   32   34   36   38   40   42   44   46   48   50   52   54\n",
      "   56   58   60   62   64   66   68   70   72   74   76   78   80   82\n",
      "   84   86   88   90   92   94   96   98  100  102  104  106  108  110\n",
      "  112  114  116  118  120  122  124  126  128  130  132  134  136  138\n",
      "  140  142  144  146  148  150  152  154  156  158  160  162  164  166\n",
      "  168  170  172  174  176  178  180  182  184  186  188  190  192  194\n",
      "  196  198  200  202  204  206  208  210  212  214  216  218  220  222\n",
      "  224  226  228  230  232  234  236  238  240  242  244  246  248  250\n",
      "  252  254  256  258  260  262  264  266  268  270  272  274  276  278\n",
      "  280  282  284  286  288  290  292  294  296  298  300  302  304  306\n",
      "  308  310  312  314  316  318  320  322  324  326  328  330  332  334\n",
      "  336  338  340  342  344  346  348  350  352  354  356  358  360  362\n",
      "  364  366  368  370  372  374  376  378  380  382  384  386  388  390\n",
      "  392  394  396  398  400  402  404  406  408  410  412  414  416  418\n",
      "  420  422  424  426  428  430  432  434  436  438  440  442  444  446\n",
      "  448  450  452  454  456  458  460  462  464  466  468  470  472  474\n",
      "  476  478  480  482  484  486  488  490  492  494  496  498  500  502\n",
      "  504  506  508  510  512  514  516  518  520  522  524  526  528  530\n",
      "  532  534  536  538  540  542  544  546  548  550  552  554  556  558\n",
      "  560  562  564  566  568  570  572  574  576  578  580  582  584  586\n",
      "  588  590  592  594  596  598  600  602  604  606  608  610  612  614\n",
      "  616  618  620  622  624  626  628  630  632  634  636  638  640  642\n",
      "  644  646  648  650  652  654  656  658  660  662  664  666  668  670\n",
      "  672  674  676  678  680  682  684  686  688  690  692  694  696  698\n",
      "  700  702  704  706  708  710  712  714  716  718  720  722  724  726\n",
      "  728  730  732  734  736  738  740  742  744  746  748  750  752  754\n",
      "  756  758  760  762  764  766  768  770  772  774  776  778  780  782\n",
      "  784  786  788  790  792  794  796  798  800  802  804  806  808  810\n",
      "  812  814  816  818  820  822  824  826  828  830  832  834  836  838\n",
      "  840  842  844  846  848  850  852  854  856  858  860  862  864  866\n",
      "  868  870  872  874  876  878  880  882  884  886  888  890  892  894\n",
      "  896  898  900  902  904  906  908  910  912  914  916  918  920  922\n",
      "  924  926  928  930  932  934  936  938  940  942  944  946  948  950\n",
      "  952  954  956  958  960  962  964  966  968  970  972  974  976  978\n",
      "  980  982  984  986  988  990  992  994  996  998 1000]\n"
     ]
    }
   ],
   "source": [
    "arr1 = np.arange(start= 0 , stop= 1001, step=2)\n",
    "print(arr1)"
   ]
  },
  {
   "cell_type": "code",
   "execution_count": 76,
   "id": "531378ae",
   "metadata": {},
   "outputs": [],
   "source": [
    "#a. Print the first ten elements of the array."
   ]
  },
  {
   "cell_type": "code",
   "execution_count": 79,
   "id": "6d848d80",
   "metadata": {},
   "outputs": [
    {
     "name": "stdout",
     "output_type": "stream",
     "text": [
      "[ 0  2  4  6  8 10 12 14 16 18]\n"
     ]
    }
   ],
   "source": [
    "print(arr1[0:10])"
   ]
  },
  {
   "cell_type": "code",
   "execution_count": 80,
   "id": "94cd667a",
   "metadata": {},
   "outputs": [],
   "source": [
    "##b. Print the last ten elements of the array\n"
   ]
  },
  {
   "cell_type": "code",
   "execution_count": 91,
   "id": "7fa943ca",
   "metadata": {},
   "outputs": [
    {
     "name": "stdout",
     "output_type": "stream",
     "text": [
      "[ 982  984  986  988  990  992  994  996  998 1000]\n"
     ]
    }
   ],
   "source": [
    "print(arr1[-10:])\n"
   ]
  },
  {
   "cell_type": "code",
   "execution_count": 92,
   "id": "4bed21cb",
   "metadata": {},
   "outputs": [],
   "source": [
    "#c. Print the elements from the indexes 10-25"
   ]
  },
  {
   "cell_type": "code",
   "execution_count": 93,
   "id": "2a9a93af",
   "metadata": {},
   "outputs": [
    {
     "name": "stdout",
     "output_type": "stream",
     "text": [
      "[20 22 24 26 28 30 32 34 36 38 40 42 44 46 48 50]\n"
     ]
    }
   ],
   "source": [
    "print(arr1[10:26])"
   ]
  },
  {
   "cell_type": "code",
   "execution_count": 94,
   "id": "40ab63b7",
   "metadata": {},
   "outputs": [],
   "source": [
    "#d. Print the element at the index 22\n"
   ]
  },
  {
   "cell_type": "code",
   "execution_count": 96,
   "id": "6123b9ae",
   "metadata": {},
   "outputs": [
    {
     "name": "stdout",
     "output_type": "stream",
     "text": [
      "44\n"
     ]
    }
   ],
   "source": [
    "print(arr1[22])"
   ]
  },
  {
   "cell_type": "code",
   "execution_count": 97,
   "id": "161c2926",
   "metadata": {},
   "outputs": [],
   "source": [
    "#e. Print the array using negative indexing."
   ]
  },
  {
   "cell_type": "code",
   "execution_count": 98,
   "id": "b5f00bf2",
   "metadata": {},
   "outputs": [
    {
     "name": "stdout",
     "output_type": "stream",
     "text": [
      "[1000  998  996  994  992  990  988  986  984  982  980  978  976  974\n",
      "  972  970  968  966  964  962  960  958  956  954  952  950  948  946\n",
      "  944  942  940  938  936  934  932  930  928  926  924  922  920  918\n",
      "  916  914  912  910  908  906  904  902  900  898  896  894  892  890\n",
      "  888  886  884  882  880  878  876  874  872  870  868  866  864  862\n",
      "  860  858  856  854  852  850  848  846  844  842  840  838  836  834\n",
      "  832  830  828  826  824  822  820  818  816  814  812  810  808  806\n",
      "  804  802  800  798  796  794  792  790  788  786  784  782  780  778\n",
      "  776  774  772  770  768  766  764  762  760  758  756  754  752  750\n",
      "  748  746  744  742  740  738  736  734  732  730  728  726  724  722\n",
      "  720  718  716  714  712  710  708  706  704  702  700  698  696  694\n",
      "  692  690  688  686  684  682  680  678  676  674  672  670  668  666\n",
      "  664  662  660  658  656  654  652  650  648  646  644  642  640  638\n",
      "  636  634  632  630  628  626  624  622  620  618  616  614  612  610\n",
      "  608  606  604  602  600  598  596  594  592  590  588  586  584  582\n",
      "  580  578  576  574  572  570  568  566  564  562  560  558  556  554\n",
      "  552  550  548  546  544  542  540  538  536  534  532  530  528  526\n",
      "  524  522  520  518  516  514  512  510  508  506  504  502  500  498\n",
      "  496  494  492  490  488  486  484  482  480  478  476  474  472  470\n",
      "  468  466  464  462  460  458  456  454  452  450  448  446  444  442\n",
      "  440  438  436  434  432  430  428  426  424  422  420  418  416  414\n",
      "  412  410  408  406  404  402  400  398  396  394  392  390  388  386\n",
      "  384  382  380  378  376  374  372  370  368  366  364  362  360  358\n",
      "  356  354  352  350  348  346  344  342  340  338  336  334  332  330\n",
      "  328  326  324  322  320  318  316  314  312  310  308  306  304  302\n",
      "  300  298  296  294  292  290  288  286  284  282  280  278  276  274\n",
      "  272  270  268  266  264  262  260  258  256  254  252  250  248  246\n",
      "  244  242  240  238  236  234  232  230  228  226  224  222  220  218\n",
      "  216  214  212  210  208  206  204  202  200  198  196  194  192  190\n",
      "  188  186  184  182  180  178  176  174  172  170  168  166  164  162\n",
      "  160  158  156  154  152  150  148  146  144  142  140  138  136  134\n",
      "  132  130  128  126  124  122  120  118  116  114  112  110  108  106\n",
      "  104  102  100   98   96   94   92   90   88   86   84   82   80   78\n",
      "   76   74   72   70   68   66   64   62   60   58   56   54   52   50\n",
      "   48   46   44   42   40   38   36   34   32   30   28   26   24   22\n",
      "   20   18   16   14   12   10    8    6    4    2    0]\n"
     ]
    }
   ],
   "source": [
    "print(arr1[::-1])"
   ]
  },
  {
   "cell_type": "code",
   "execution_count": 99,
   "id": "37309d0f",
   "metadata": {},
   "outputs": [
    {
     "name": "stdout",
     "output_type": "stream",
     "text": [
      "[1000  998  996  994  992  990  988  986  984  982  980  978  976  974\n",
      "  972  970  968  966  964  962  960  958  956  954  952  950  948  946\n",
      "  944  942  940  938  936  934  932  930  928  926  924  922  920  918\n",
      "  916  914  912  910  908  906  904  902  900  898  896  894  892  890\n",
      "  888  886  884  882  880  878  876  874  872  870  868  866  864  862\n",
      "  860  858  856  854  852  850  848  846  844  842  840  838  836  834\n",
      "  832  830  828  826  824  822  820  818  816  814  812  810  808  806\n",
      "  804  802  800  798  796  794  792  790  788  786  784  782  780  778\n",
      "  776  774  772  770  768  766  764  762  760  758  756  754  752  750\n",
      "  748  746  744  742  740  738  736  734  732  730  728  726  724  722\n",
      "  720  718  716  714  712  710  708  706  704  702  700  698  696  694\n",
      "  692  690  688  686  684  682  680  678  676  674  672  670  668  666\n",
      "  664  662  660  658  656  654  652  650  648  646  644  642  640  638\n",
      "  636  634  632  630  628  626  624  622  620  618  616  614  612  610\n",
      "  608  606  604  602  600  598  596  594  592  590  588  586  584  582\n",
      "  580  578  576  574  572  570  568  566  564  562  560  558  556  554\n",
      "  552  550  548  546  544  542  540  538  536  534  532  530  528  526\n",
      "  524  522  520  518  516  514  512  510  508  506  504  502  500  498\n",
      "  496  494  492  490  488  486  484  482  480  478  476  474  472  470\n",
      "  468  466  464  462  460  458  456  454  452  450  448  446  444  442\n",
      "  440  438  436  434  432  430  428  426  424  422  420  418  416  414\n",
      "  412  410  408  406  404  402  400  398  396  394  392  390  388  386\n",
      "  384  382  380  378  376  374  372  370  368  366  364  362  360  358\n",
      "  356  354  352  350  348  346  344  342  340  338  336  334  332  330\n",
      "  328  326  324  322  320  318  316  314  312  310  308  306  304  302\n",
      "  300  298  296  294  292  290  288  286  284  282  280  278  276  274\n",
      "  272  270  268  266  264  262  260  258  256  254  252  250  248  246\n",
      "  244  242  240  238  236  234  232  230  228  226  224  222  220  218\n",
      "  216  214  212  210  208  206  204  202  200  198  196  194  192  190\n",
      "  188  186  184  182  180  178  176  174  172  170  168  166  164  162\n",
      "  160  158  156  154  152  150  148  146  144  142  140  138  136  134\n",
      "  132  130  128  126  124  122  120  118  116  114  112  110  108  106\n",
      "  104  102  100   98   96   94   92   90   88   86   84   82   80   78\n",
      "   76   74   72   70   68   66   64   62   60   58   56   54   52   50\n",
      "   48   46   44   42   40   38   36   34   32   30   28   26   24   22\n",
      "   20   18   16   14   12   10    8    6    4    2    0]\n"
     ]
    }
   ],
   "source": [
    "print(arr1[-1::-1])"
   ]
  },
  {
   "cell_type": "code",
   "execution_count": 100,
   "id": "b4d5e88e",
   "metadata": {},
   "outputs": [],
   "source": [
    "##f. Print the last ten elements of the array, using negative indexing."
   ]
  },
  {
   "cell_type": "code",
   "execution_count": 101,
   "id": "7cbd6196",
   "metadata": {},
   "outputs": [
    {
     "name": "stdout",
     "output_type": "stream",
     "text": [
      "[ 982  984  986  988  990  992  994  996  998 1000]\n"
     ]
    }
   ],
   "source": [
    "print(arr1[-10:])"
   ]
  },
  {
   "cell_type": "code",
   "execution_count": 102,
   "id": "2c6d7e74",
   "metadata": {},
   "outputs": [],
   "source": [
    "##10. Given a numpy array that has values = [1,2,3,4,5]. Perform the following operations.\n",
    "##a. Insert the element 6 at the end of the array.\n"
   ]
  },
  {
   "cell_type": "code",
   "execution_count": 103,
   "id": "eda0f355",
   "metadata": {},
   "outputs": [
    {
     "name": "stdout",
     "output_type": "stream",
     "text": [
      "[1 2 3 4 5]\n"
     ]
    }
   ],
   "source": [
    "arr1 = np.array([1,2,3,4,5])\n",
    "print(arr1)"
   ]
  },
  {
   "cell_type": "code",
   "execution_count": 104,
   "id": "87d0a6d9",
   "metadata": {},
   "outputs": [
    {
     "name": "stdout",
     "output_type": "stream",
     "text": [
      "[1 2 3 4 5 6]\n"
     ]
    }
   ],
   "source": [
    "#a\n",
    "arr1 = np.append(arr1,6)\n",
    "print(arr1)"
   ]
  },
  {
   "cell_type": "code",
   "execution_count": 105,
   "id": "37069c02",
   "metadata": {},
   "outputs": [],
   "source": [
    "#b. Insert the element 10 at the beginning of the array."
   ]
  },
  {
   "cell_type": "code",
   "execution_count": 106,
   "id": "93e84091",
   "metadata": {},
   "outputs": [
    {
     "name": "stdout",
     "output_type": "stream",
     "text": [
      "[10  1  2  3  4  5  6]\n"
     ]
    }
   ],
   "source": [
    "arr1 = np.insert(arr1,0,10)\n",
    "print(arr1)"
   ]
  },
  {
   "cell_type": "code",
   "execution_count": 108,
   "id": "f65f78da",
   "metadata": {},
   "outputs": [],
   "source": [
    "##c. Insert the element 30, before 4.\n"
   ]
  },
  {
   "cell_type": "code",
   "execution_count": 109,
   "id": "a1048497",
   "metadata": {},
   "outputs": [
    {
     "name": "stdout",
     "output_type": "stream",
     "text": [
      "[10  1  2  3 30  4  5  6]\n"
     ]
    }
   ],
   "source": [
    "arr1 = np.insert(arr1,4,30)\n",
    "print(arr1)"
   ]
  },
  {
   "cell_type": "code",
   "execution_count": 110,
   "id": "bff32a02",
   "metadata": {},
   "outputs": [],
   "source": [
    "##d. Update the element 5 as 50.\n"
   ]
  },
  {
   "cell_type": "code",
   "execution_count": 111,
   "id": "e3198782",
   "metadata": {},
   "outputs": [
    {
     "name": "stdout",
     "output_type": "stream",
     "text": [
      "[10  1  2  3 30  4 50  6]\n"
     ]
    }
   ],
   "source": [
    "arr1[6]=50\n",
    "print(arr1)"
   ]
  },
  {
   "cell_type": "code",
   "execution_count": 112,
   "id": "1aa7fbf5",
   "metadata": {},
   "outputs": [],
   "source": [
    "##e. Delete the element 50 in the updated array.\n"
   ]
  },
  {
   "cell_type": "code",
   "execution_count": 113,
   "id": "070f4410",
   "metadata": {},
   "outputs": [
    {
     "name": "stdout",
     "output_type": "stream",
     "text": [
      "[10  1  2  3 30  4  6]\n"
     ]
    }
   ],
   "source": [
    "arr1 = np.delete(arr1,6)\n",
    "print(arr1)"
   ]
  },
  {
   "cell_type": "code",
   "execution_count": 114,
   "id": "d8077e50",
   "metadata": {},
   "outputs": [],
   "source": [
    "##f. Create a function to search for the element 30"
   ]
  },
  {
   "cell_type": "code",
   "execution_count": 115,
   "id": "2f53cca4",
   "metadata": {},
   "outputs": [
    {
     "name": "stdout",
     "output_type": "stream",
     "text": [
      "30\n"
     ]
    }
   ],
   "source": [
    "for i in arr1:\n",
    "    if i == 30:\n",
    "        print(i)"
   ]
  },
  {
   "cell_type": "code",
   "execution_count": 116,
   "id": "05edcb67",
   "metadata": {},
   "outputs": [],
   "source": [
    "##g. Sort the array in ascending order"
   ]
  },
  {
   "cell_type": "code",
   "execution_count": 117,
   "id": "ecf921a5",
   "metadata": {},
   "outputs": [
    {
     "name": "stdout",
     "output_type": "stream",
     "text": [
      "[ 1  2  3  4  6 10 30]\n"
     ]
    }
   ],
   "source": [
    "print(np.sort(arr1))"
   ]
  },
  {
   "cell_type": "code",
   "execution_count": null,
   "id": "16a9e92c",
   "metadata": {},
   "outputs": [],
   "source": []
  }
 ],
 "metadata": {
  "kernelspec": {
   "display_name": "Python 3 (ipykernel)",
   "language": "python",
   "name": "python3"
  },
  "language_info": {
   "codemirror_mode": {
    "name": "ipython",
    "version": 3
   },
   "file_extension": ".py",
   "mimetype": "text/x-python",
   "name": "python",
   "nbconvert_exporter": "python",
   "pygments_lexer": "ipython3",
   "version": "3.9.7"
  }
 },
 "nbformat": 4,
 "nbformat_minor": 5
}
