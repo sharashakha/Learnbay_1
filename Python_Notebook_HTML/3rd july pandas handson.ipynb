{
 "cells": [
  {
   "cell_type": "code",
   "execution_count": 1,
   "id": "0e4e8ddd",
   "metadata": {},
   "outputs": [],
   "source": [
    "##1. Given a sample list, tuple and a set with elements as numbers from 1-10. Convert each\n",
    "##of the data types into a pandas series. Create a separate list of index values for the\n",
    "##series."
   ]
  },
  {
   "cell_type": "code",
   "execution_count": 2,
   "id": "0cb0f50d",
   "metadata": {},
   "outputs": [],
   "source": [
    "import pandas as pd"
   ]
  },
  {
   "cell_type": "code",
   "execution_count": 3,
   "id": "e2fe217c",
   "metadata": {},
   "outputs": [
    {
     "name": "stdout",
     "output_type": "stream",
     "text": [
      "[1, 2, 3, 4, 5, 6, 7, 8, 9, 10]\n",
      "0     1\n",
      "1     2\n",
      "2     3\n",
      "3     4\n",
      "4     5\n",
      "5     6\n",
      "6     7\n",
      "7     8\n",
      "8     9\n",
      "9    10\n",
      "dtype: int64\n"
     ]
    }
   ],
   "source": [
    "lista= list(range(1,11))\n",
    "print(lista)\n",
    "list1=pd.Series(lista)\n",
    "print(list1)"
   ]
  },
  {
   "cell_type": "code",
   "execution_count": 4,
   "id": "38f735dc",
   "metadata": {},
   "outputs": [
    {
     "name": "stdout",
     "output_type": "stream",
     "text": [
      "(1, 2, 3, 4, 5, 6, 7, 8, 9, 10)\n",
      "0     1\n",
      "1     2\n",
      "2     3\n",
      "3     4\n",
      "4     5\n",
      "5     6\n",
      "6     7\n",
      "7     8\n",
      "8     9\n",
      "9    10\n",
      "dtype: int64\n"
     ]
    }
   ],
   "source": [
    "tuple1 = tuple(lista)\n",
    "print(tuple1)\n",
    "tup_S = pd.Series(tuple1)\n",
    "print(tup_S)\n"
   ]
  },
  {
   "cell_type": "code",
   "execution_count": 5,
   "id": "0b1bd792",
   "metadata": {},
   "outputs": [
    {
     "name": "stdout",
     "output_type": "stream",
     "text": [
      "Requirement already satisfied: ordered-set in c:\\users\\hp\\anaconda3\\lib\\site-packages (4.1.0)\n"
     ]
    }
   ],
   "source": [
    "! pip install ordered-set"
   ]
  },
  {
   "cell_type": "code",
   "execution_count": 6,
   "id": "1cf52361",
   "metadata": {},
   "outputs": [],
   "source": [
    "from ordered_set import OrderedSet"
   ]
  },
  {
   "cell_type": "code",
   "execution_count": 7,
   "id": "7107cf67",
   "metadata": {},
   "outputs": [
    {
     "name": "stdout",
     "output_type": "stream",
     "text": [
      "the set is: OrderedSet([1, 2, 3, 4, 5, 6, 7, 8, 9, 10])\n",
      "0     1\n",
      "1     2\n",
      "2     3\n",
      "3     4\n",
      "4     5\n",
      "5     6\n",
      "6     7\n",
      "7     8\n",
      "8     9\n",
      "9    10\n",
      "dtype: int64\n"
     ]
    }
   ],
   "source": [
    "set1= OrderedSet(range(1,11))\n",
    "print(\"the set is:\", set1)\n",
    "# create series from the set\n",
    "set_S = pd.Series(set1)\n",
    "print(set_S)"
   ]
  },
  {
   "cell_type": "code",
   "execution_count": 8,
   "id": "e0a17193",
   "metadata": {},
   "outputs": [
    {
     "data": {
      "text/plain": [
       "a     1\n",
       "b     2\n",
       "c     3\n",
       "d     4\n",
       "e     5\n",
       "f     6\n",
       "g     7\n",
       "h     8\n",
       "i     9\n",
       "j    10\n",
       "dtype: int64"
      ]
     },
     "execution_count": 8,
     "metadata": {},
     "output_type": "execute_result"
    }
   ],
   "source": [
    "index = ['a','b','c','d','e','f','g','h','i','j']\n",
    "pd.Series(lista,index= index)\n",
    "\n",
    "         "
   ]
  },
  {
   "cell_type": "code",
   "execution_count": 9,
   "id": "2838d0d8",
   "metadata": {},
   "outputs": [],
   "source": [
    "##2. Create a python dictionary with three key value pairs. Keep the keys as the first names,\n",
    "##and the respective last names as values in the dictionary. Use the dictionary to create a\n",
    "##pandas series.\n"
   ]
  },
  {
   "cell_type": "code",
   "execution_count": 10,
   "id": "96c63a5f",
   "metadata": {},
   "outputs": [
    {
     "data": {
      "text/plain": [
       "{'ajay': 'kumar', 'swaraj': 'sharma', 'disha': 'gautam'}"
      ]
     },
     "execution_count": 10,
     "metadata": {},
     "output_type": "execute_result"
    }
   ],
   "source": [
    "dict1= {'ajay':'kumar',\"swaraj\":'sharma',\"disha\":'gautam' }\n",
    "dict1"
   ]
  },
  {
   "cell_type": "code",
   "execution_count": 11,
   "id": "6a77e78f",
   "metadata": {},
   "outputs": [
    {
     "data": {
      "text/plain": [
       "ajay       kumar\n",
       "swaraj    sharma\n",
       "disha     gautam\n",
       "dtype: object"
      ]
     },
     "execution_count": 11,
     "metadata": {},
     "output_type": "execute_result"
    }
   ],
   "source": [
    "pd.Series(dict1)"
   ]
  },
  {
   "cell_type": "code",
   "execution_count": 12,
   "id": "963933a3",
   "metadata": {},
   "outputs": [],
   "source": [
    "##3. Create a pandas series, with the elements as numbers from 1-10. Use the index values\n",
    "##starting from 0-10. For the above series:\n",
    "##a. Convert it to a list.\n",
    "##b. Convert it to a dictionary.\n",
    "#c. Convert it to a tuple.\n",
    "#d. Convert it to a set.\n"
   ]
  },
  {
   "cell_type": "code",
   "execution_count": 13,
   "id": "208f9890",
   "metadata": {},
   "outputs": [
    {
     "data": {
      "text/plain": [
       "0     1\n",
       "1     2\n",
       "2     3\n",
       "3     4\n",
       "4     5\n",
       "5     6\n",
       "6     7\n",
       "7     8\n",
       "8     9\n",
       "9    10\n",
       "dtype: int64"
      ]
     },
     "execution_count": 13,
     "metadata": {},
     "output_type": "execute_result"
    }
   ],
   "source": [
    "series = pd.Series(range(1,11))\n",
    "series"
   ]
  },
  {
   "cell_type": "code",
   "execution_count": 14,
   "id": "901e89c6",
   "metadata": {},
   "outputs": [
    {
     "data": {
      "text/plain": [
       "[1, 2, 3, 4, 5, 6, 7, 8, 9, 10]"
      ]
     },
     "execution_count": 14,
     "metadata": {},
     "output_type": "execute_result"
    }
   ],
   "source": [
    "#a\n",
    "list(series)"
   ]
  },
  {
   "cell_type": "code",
   "execution_count": 15,
   "id": "49319774",
   "metadata": {},
   "outputs": [
    {
     "data": {
      "text/plain": [
       "(1, 2, 3, 4, 5, 6, 7, 8, 9, 10)"
      ]
     },
     "execution_count": 15,
     "metadata": {},
     "output_type": "execute_result"
    }
   ],
   "source": [
    "tuple(series)"
   ]
  },
  {
   "cell_type": "code",
   "execution_count": 16,
   "id": "71d3a83c",
   "metadata": {},
   "outputs": [
    {
     "data": {
      "text/plain": [
       "{1, 2, 3, 4, 5, 6, 7, 8, 9, 10}"
      ]
     },
     "execution_count": 16,
     "metadata": {},
     "output_type": "execute_result"
    }
   ],
   "source": [
    "set(series)"
   ]
  },
  {
   "cell_type": "code",
   "execution_count": 17,
   "id": "6ec65476",
   "metadata": {},
   "outputs": [
    {
     "data": {
      "text/plain": [
       "{0: 1, 1: 2, 2: 3, 3: 4, 4: 5, 5: 6, 6: 7, 7: 8, 8: 9, 9: 10}"
      ]
     },
     "execution_count": 17,
     "metadata": {},
     "output_type": "execute_result"
    }
   ],
   "source": [
    "dict(series)"
   ]
  },
  {
   "cell_type": "code",
   "execution_count": 18,
   "id": "892b49d2",
   "metadata": {},
   "outputs": [],
   "source": [
    "##4. Create a sample pandas series with x integer elements. Perform the following operations\n",
    "##on the same:\n",
    "#a. Print the first 5 elements of the series\n",
    "#b. Print the last 5 elements of the series\n",
    "#c. Insert an integer value ‘50’ at the index 5.\n",
    "#d. Update the last element in the series with the value 100.\n",
    "#e. Delete the first element from the series."
   ]
  },
  {
   "cell_type": "code",
   "execution_count": 19,
   "id": "30a9bb32",
   "metadata": {},
   "outputs": [
    {
     "data": {
      "text/plain": [
       "0     1\n",
       "1     2\n",
       "2     3\n",
       "3     4\n",
       "4     5\n",
       "5     6\n",
       "6     7\n",
       "7     8\n",
       "8     9\n",
       "9    10\n",
       "dtype: int64"
      ]
     },
     "execution_count": 19,
     "metadata": {},
     "output_type": "execute_result"
    }
   ],
   "source": [
    "series2= series\n",
    "series2"
   ]
  },
  {
   "cell_type": "code",
   "execution_count": 20,
   "id": "3c4b8bc0",
   "metadata": {},
   "outputs": [
    {
     "data": {
      "text/plain": [
       "0    1\n",
       "1    2\n",
       "2    3\n",
       "3    4\n",
       "4    5\n",
       "dtype: int64"
      ]
     },
     "execution_count": 20,
     "metadata": {},
     "output_type": "execute_result"
    }
   ],
   "source": [
    "#a\n",
    "series2[:5]"
   ]
  },
  {
   "cell_type": "code",
   "execution_count": 21,
   "id": "37f28032",
   "metadata": {},
   "outputs": [],
   "source": [
    "#b  Print the last 5 elements of the series\n"
   ]
  },
  {
   "cell_type": "code",
   "execution_count": 22,
   "id": "e2f938da",
   "metadata": {},
   "outputs": [
    {
     "data": {
      "text/plain": [
       "5     6\n",
       "6     7\n",
       "7     8\n",
       "8     9\n",
       "9    10\n",
       "dtype: int64"
      ]
     },
     "execution_count": 22,
     "metadata": {},
     "output_type": "execute_result"
    }
   ],
   "source": [
    "series2[-5:]"
   ]
  },
  {
   "cell_type": "code",
   "execution_count": 23,
   "id": "8f589aab",
   "metadata": {},
   "outputs": [],
   "source": [
    "#c. Insert an integer value ‘50’ at the index 5."
   ]
  },
  {
   "cell_type": "code",
   "execution_count": 24,
   "id": "044dcab8",
   "metadata": {},
   "outputs": [
    {
     "data": {
      "text/plain": [
       "0     1\n",
       "1     2\n",
       "2     3\n",
       "3     4\n",
       "4     5\n",
       "5    50\n",
       "6     7\n",
       "7     8\n",
       "8     9\n",
       "9    10\n",
       "dtype: int64"
      ]
     },
     "execution_count": 24,
     "metadata": {},
     "output_type": "execute_result"
    }
   ],
   "source": [
    "series2[5]=50\n",
    "series2"
   ]
  },
  {
   "cell_type": "code",
   "execution_count": 25,
   "id": "062606c5",
   "metadata": {},
   "outputs": [],
   "source": [
    "#d. Update the last element in the series with the value 100."
   ]
  },
  {
   "cell_type": "code",
   "execution_count": 26,
   "id": "565b22f9",
   "metadata": {},
   "outputs": [],
   "source": [
    "series2[10]=100\n",
    "series2.iloc[10]=100"
   ]
  },
  {
   "cell_type": "code",
   "execution_count": 27,
   "id": "5b2b23c8",
   "metadata": {},
   "outputs": [
    {
     "data": {
      "text/plain": [
       "0       1\n",
       "1       2\n",
       "2       3\n",
       "3       4\n",
       "4       5\n",
       "5      50\n",
       "6       7\n",
       "7       8\n",
       "8       9\n",
       "9      10\n",
       "10    100\n",
       "dtype: int64"
      ]
     },
     "execution_count": 27,
     "metadata": {},
     "output_type": "execute_result"
    }
   ],
   "source": [
    "series2"
   ]
  },
  {
   "cell_type": "code",
   "execution_count": 28,
   "id": "e5290e97",
   "metadata": {},
   "outputs": [],
   "source": [
    "##e. Delete the first element from the series."
   ]
  },
  {
   "cell_type": "code",
   "execution_count": 29,
   "id": "c430e7ef",
   "metadata": {},
   "outputs": [
    {
     "data": {
      "text/plain": [
       "1       2\n",
       "2       3\n",
       "3       4\n",
       "4       5\n",
       "5      50\n",
       "6       7\n",
       "7       8\n",
       "8       9\n",
       "9      10\n",
       "10    100\n",
       "dtype: int64"
      ]
     },
     "execution_count": 29,
     "metadata": {},
     "output_type": "execute_result"
    }
   ],
   "source": [
    "series2= series2.drop(0)\n",
    "series2"
   ]
  },
  {
   "cell_type": "code",
   "execution_count": 30,
   "id": "2c9fc94d",
   "metadata": {},
   "outputs": [
    {
     "data": {
      "text/plain": [
       "0      2\n",
       "1      3\n",
       "2      4\n",
       "3      5\n",
       "4     50\n",
       "5      7\n",
       "6      8\n",
       "7      9\n",
       "8     10\n",
       "9    100\n",
       "dtype: int64"
      ]
     },
     "execution_count": 30,
     "metadata": {},
     "output_type": "execute_result"
    }
   ],
   "source": [
    "series2.reset_index(drop = True)"
   ]
  },
  {
   "cell_type": "code",
   "execution_count": 31,
   "id": "87adb970",
   "metadata": {},
   "outputs": [],
   "source": [
    "##5. For a given pandas series obtained in the 4th step. Write a sample code to find the\n",
    "##element 100 in the series.\n"
   ]
  },
  {
   "cell_type": "code",
   "execution_count": 32,
   "id": "df78c6fb",
   "metadata": {},
   "outputs": [
    {
     "name": "stdout",
     "output_type": "stream",
     "text": [
      "Element 100\n"
     ]
    }
   ],
   "source": [
    "for i in series2:\n",
    "    if i == 100:\n",
    "        print(\"Element\",i)"
   ]
  },
  {
   "cell_type": "code",
   "execution_count": 33,
   "id": "7d984f7f",
   "metadata": {},
   "outputs": [
    {
     "name": "stdout",
     "output_type": "stream",
     "text": [
      "10 100\n"
     ]
    }
   ],
   "source": [
    "for i in range(1,len(series2)+1):\n",
    "    if series2[i]==100:\n",
    "        print(i,series2[i])"
   ]
  },
  {
   "cell_type": "code",
   "execution_count": 34,
   "id": "2e7481e4",
   "metadata": {},
   "outputs": [],
   "source": [
    "#6. For the given series A and B, perform concatenation on the same.\n",
    "#series_A = pd.Series([1,2,3,4,5])\n",
    "#series_B = pd.Series([6,7,8,9,10])\n",
    "\n"
   ]
  },
  {
   "cell_type": "code",
   "execution_count": 35,
   "id": "18b1da78",
   "metadata": {},
   "outputs": [
    {
     "data": {
      "text/plain": [
       "0     1\n",
       "1     2\n",
       "2     3\n",
       "3     4\n",
       "4     5\n",
       "0     6\n",
       "1     7\n",
       "2     8\n",
       "3     9\n",
       "4    10\n",
       "dtype: int64"
      ]
     },
     "execution_count": 35,
     "metadata": {},
     "output_type": "execute_result"
    }
   ],
   "source": [
    "series_A = pd.Series([1,2,3,4,5])\n",
    "series_B = pd.Series([6,7,8,9,10])\n",
    "pd.concat([series_A,series_B])\n"
   ]
  },
  {
   "cell_type": "code",
   "execution_count": 36,
   "id": "4ce11141",
   "metadata": {},
   "outputs": [
    {
     "data": {
      "text/plain": [
       "0     1\n",
       "1     2\n",
       "2     3\n",
       "3     4\n",
       "4     5\n",
       "5     6\n",
       "6     7\n",
       "7     8\n",
       "8     9\n",
       "9    10\n",
       "dtype: int64"
      ]
     },
     "execution_count": 36,
     "metadata": {},
     "output_type": "execute_result"
    }
   ],
   "source": [
    "pd.concat([series_A,series_B], ignore_index = True)"
   ]
  },
  {
   "cell_type": "code",
   "execution_count": 37,
   "id": "8cca21c8",
   "metadata": {},
   "outputs": [],
   "source": [
    "##7. Using loops in python, print all the elements within a pandas series.\n",
    "#Sample = pd.Series([1,2,3,4,5,6,7,8,9,10])"
   ]
  },
  {
   "cell_type": "code",
   "execution_count": 38,
   "id": "59cd1edd",
   "metadata": {},
   "outputs": [
    {
     "data": {
      "text/plain": [
       "0     1\n",
       "1     2\n",
       "2     3\n",
       "3     4\n",
       "4     5\n",
       "5     6\n",
       "6     7\n",
       "7     8\n",
       "8     9\n",
       "9    10\n",
       "dtype: int64"
      ]
     },
     "execution_count": 38,
     "metadata": {},
     "output_type": "execute_result"
    }
   ],
   "source": [
    "Sample = pd.Series([1,2,3,4,5,6,7,8,9,10])\n",
    "\n",
    "Sample"
   ]
  },
  {
   "cell_type": "code",
   "execution_count": 39,
   "id": "b4eac0b6",
   "metadata": {},
   "outputs": [
    {
     "name": "stdout",
     "output_type": "stream",
     "text": [
      "1\n",
      "2\n",
      "3\n",
      "4\n",
      "5\n",
      "6\n",
      "7\n",
      "8\n",
      "9\n",
      "10\n"
     ]
    }
   ],
   "source": [
    "for i in Sample:\n",
    "    print(i)"
   ]
  },
  {
   "cell_type": "code",
   "execution_count": 40,
   "id": "711f3570",
   "metadata": {},
   "outputs": [],
   "source": [
    "##8. For a given nested list and a sample dictionary, create two data frames using pandas.\n",
    "##List = [['AA','BB','CC'], ['DD','EE','FF'], ['GG','HH','II']]\n",
    "#3Dictionary = { 'Kris': ['Jordan', 12,22],'Memphis': ['Depay', 23, 24]}\n"
   ]
  },
  {
   "cell_type": "code",
   "execution_count": 41,
   "id": "0becf416",
   "metadata": {},
   "outputs": [
    {
     "data": {
      "text/html": [
       "<div>\n",
       "<style scoped>\n",
       "    .dataframe tbody tr th:only-of-type {\n",
       "        vertical-align: middle;\n",
       "    }\n",
       "\n",
       "    .dataframe tbody tr th {\n",
       "        vertical-align: top;\n",
       "    }\n",
       "\n",
       "    .dataframe thead th {\n",
       "        text-align: right;\n",
       "    }\n",
       "</style>\n",
       "<table border=\"1\" class=\"dataframe\">\n",
       "  <thead>\n",
       "    <tr style=\"text-align: right;\">\n",
       "      <th></th>\n",
       "      <th>0</th>\n",
       "      <th>1</th>\n",
       "      <th>2</th>\n",
       "    </tr>\n",
       "  </thead>\n",
       "  <tbody>\n",
       "    <tr>\n",
       "      <th>a</th>\n",
       "      <td>AA</td>\n",
       "      <td>BB</td>\n",
       "      <td>CC</td>\n",
       "    </tr>\n",
       "    <tr>\n",
       "      <th>b</th>\n",
       "      <td>DD</td>\n",
       "      <td>EE</td>\n",
       "      <td>FF</td>\n",
       "    </tr>\n",
       "    <tr>\n",
       "      <th>c</th>\n",
       "      <td>GG</td>\n",
       "      <td>HH</td>\n",
       "      <td>II</td>\n",
       "    </tr>\n",
       "  </tbody>\n",
       "</table>\n",
       "</div>"
      ],
      "text/plain": [
       "    0   1   2\n",
       "a  AA  BB  CC\n",
       "b  DD  EE  FF\n",
       "c  GG  HH  II"
      ]
     },
     "execution_count": 41,
     "metadata": {},
     "output_type": "execute_result"
    }
   ],
   "source": [
    "List = [['AA','BB','CC'], ['DD','EE','FF'], ['GG','HH','II']]\n",
    "dataframe = pd.DataFrame(List,index=['a','b','c'])\n",
    "dataframe"
   ]
  },
  {
   "cell_type": "code",
   "execution_count": 42,
   "id": "7eeb0b31",
   "metadata": {},
   "outputs": [
    {
     "data": {
      "text/html": [
       "<div>\n",
       "<style scoped>\n",
       "    .dataframe tbody tr th:only-of-type {\n",
       "        vertical-align: middle;\n",
       "    }\n",
       "\n",
       "    .dataframe tbody tr th {\n",
       "        vertical-align: top;\n",
       "    }\n",
       "\n",
       "    .dataframe thead th {\n",
       "        text-align: right;\n",
       "    }\n",
       "</style>\n",
       "<table border=\"1\" class=\"dataframe\">\n",
       "  <thead>\n",
       "    <tr style=\"text-align: right;\">\n",
       "      <th></th>\n",
       "      <th>Kris</th>\n",
       "      <th>Memphis</th>\n",
       "    </tr>\n",
       "  </thead>\n",
       "  <tbody>\n",
       "    <tr>\n",
       "      <th>0</th>\n",
       "      <td>Jordan</td>\n",
       "      <td>Depay</td>\n",
       "    </tr>\n",
       "    <tr>\n",
       "      <th>1</th>\n",
       "      <td>12</td>\n",
       "      <td>23</td>\n",
       "    </tr>\n",
       "    <tr>\n",
       "      <th>2</th>\n",
       "      <td>22</td>\n",
       "      <td>24</td>\n",
       "    </tr>\n",
       "  </tbody>\n",
       "</table>\n",
       "</div>"
      ],
      "text/plain": [
       "     Kris Memphis\n",
       "0  Jordan   Depay\n",
       "1      12      23\n",
       "2      22      24"
      ]
     },
     "execution_count": 42,
     "metadata": {},
     "output_type": "execute_result"
    }
   ],
   "source": [
    "Dictionary = { 'Kris': ['Jordan', 12,22],'Memphis': ['Depay', 23, 24]}\n",
    "dataframe2= pd.DataFrame(Dictionary)\n",
    "dataframe2"
   ]
  },
  {
   "cell_type": "code",
   "execution_count": 43,
   "id": "ac4d3095",
   "metadata": {},
   "outputs": [],
   "source": [
    "##9. Create a pandas Dataframe with two columns = [‘Name’, ‘Age’]. Perform the following\n",
    "#operations on the same.\n",
    "#a. Print the first 3 rows of the Data Frame .\n",
    "#b. Print the rows that have the age greater than 15.\n",
    "#c. Insert 5 imaginary names and ages as values to the pandas Data Frame .\n",
    "#d. Update the 5th row so that the name = john and age=56.\n",
    "#e. Delete the first row from the Data Frame .\n"
   ]
  },
  {
   "cell_type": "code",
   "execution_count": 44,
   "id": "419bdec8",
   "metadata": {},
   "outputs": [
    {
     "data": {
      "text/html": [
       "<div>\n",
       "<style scoped>\n",
       "    .dataframe tbody tr th:only-of-type {\n",
       "        vertical-align: middle;\n",
       "    }\n",
       "\n",
       "    .dataframe tbody tr th {\n",
       "        vertical-align: top;\n",
       "    }\n",
       "\n",
       "    .dataframe thead th {\n",
       "        text-align: right;\n",
       "    }\n",
       "</style>\n",
       "<table border=\"1\" class=\"dataframe\">\n",
       "  <thead>\n",
       "    <tr style=\"text-align: right;\">\n",
       "      <th></th>\n",
       "      <th>name</th>\n",
       "      <th>age</th>\n",
       "    </tr>\n",
       "  </thead>\n",
       "  <tbody>\n",
       "    <tr>\n",
       "      <th>0</th>\n",
       "      <td>akash</td>\n",
       "      <td>25</td>\n",
       "    </tr>\n",
       "    <tr>\n",
       "      <th>1</th>\n",
       "      <td>nick</td>\n",
       "      <td>23</td>\n",
       "    </tr>\n",
       "    <tr>\n",
       "      <th>2</th>\n",
       "      <td>joy</td>\n",
       "      <td>26</td>\n",
       "    </tr>\n",
       "    <tr>\n",
       "      <th>3</th>\n",
       "      <td>ishita</td>\n",
       "      <td>24</td>\n",
       "    </tr>\n",
       "  </tbody>\n",
       "</table>\n",
       "</div>"
      ],
      "text/plain": [
       "     name  age\n",
       "0   akash   25\n",
       "1    nick   23\n",
       "2     joy   26\n",
       "3  ishita   24"
      ]
     },
     "execution_count": 44,
     "metadata": {},
     "output_type": "execute_result"
    }
   ],
   "source": [
    "data= [['akash',25],['nick',23],['joy',26],['ishita',24]]\n",
    "df3=pd.DataFrame(data,columns= ['name','age'])\n",
    "df3"
   ]
  },
  {
   "cell_type": "code",
   "execution_count": 45,
   "id": "810fe263",
   "metadata": {},
   "outputs": [
    {
     "data": {
      "text/plain": [
       "(4, 2)"
      ]
     },
     "execution_count": 45,
     "metadata": {},
     "output_type": "execute_result"
    }
   ],
   "source": [
    "df3.shape"
   ]
  },
  {
   "cell_type": "code",
   "execution_count": 46,
   "id": "b69952ae",
   "metadata": {},
   "outputs": [],
   "source": [
    "#a. Print the first 3 rows of the Data Frame ."
   ]
  },
  {
   "cell_type": "code",
   "execution_count": 47,
   "id": "01c3bb7c",
   "metadata": {},
   "outputs": [
    {
     "data": {
      "text/html": [
       "<div>\n",
       "<style scoped>\n",
       "    .dataframe tbody tr th:only-of-type {\n",
       "        vertical-align: middle;\n",
       "    }\n",
       "\n",
       "    .dataframe tbody tr th {\n",
       "        vertical-align: top;\n",
       "    }\n",
       "\n",
       "    .dataframe thead th {\n",
       "        text-align: right;\n",
       "    }\n",
       "</style>\n",
       "<table border=\"1\" class=\"dataframe\">\n",
       "  <thead>\n",
       "    <tr style=\"text-align: right;\">\n",
       "      <th></th>\n",
       "      <th>name</th>\n",
       "      <th>age</th>\n",
       "    </tr>\n",
       "  </thead>\n",
       "  <tbody>\n",
       "    <tr>\n",
       "      <th>0</th>\n",
       "      <td>akash</td>\n",
       "      <td>25</td>\n",
       "    </tr>\n",
       "    <tr>\n",
       "      <th>1</th>\n",
       "      <td>nick</td>\n",
       "      <td>23</td>\n",
       "    </tr>\n",
       "    <tr>\n",
       "      <th>2</th>\n",
       "      <td>joy</td>\n",
       "      <td>26</td>\n",
       "    </tr>\n",
       "  </tbody>\n",
       "</table>\n",
       "</div>"
      ],
      "text/plain": [
       "    name  age\n",
       "0  akash   25\n",
       "1   nick   23\n",
       "2    joy   26"
      ]
     },
     "execution_count": 47,
     "metadata": {},
     "output_type": "execute_result"
    }
   ],
   "source": [
    "df3[0:3]"
   ]
  },
  {
   "cell_type": "code",
   "execution_count": 48,
   "id": "f2050eb0",
   "metadata": {},
   "outputs": [],
   "source": [
    "#b. Print the rows that have the age greater than 15."
   ]
  },
  {
   "cell_type": "code",
   "execution_count": 49,
   "id": "34827731",
   "metadata": {},
   "outputs": [
    {
     "data": {
      "text/html": [
       "<div>\n",
       "<style scoped>\n",
       "    .dataframe tbody tr th:only-of-type {\n",
       "        vertical-align: middle;\n",
       "    }\n",
       "\n",
       "    .dataframe tbody tr th {\n",
       "        vertical-align: top;\n",
       "    }\n",
       "\n",
       "    .dataframe thead th {\n",
       "        text-align: right;\n",
       "    }\n",
       "</style>\n",
       "<table border=\"1\" class=\"dataframe\">\n",
       "  <thead>\n",
       "    <tr style=\"text-align: right;\">\n",
       "      <th></th>\n",
       "      <th>name</th>\n",
       "      <th>age</th>\n",
       "    </tr>\n",
       "  </thead>\n",
       "  <tbody>\n",
       "    <tr>\n",
       "      <th>0</th>\n",
       "      <td>akash</td>\n",
       "      <td>25</td>\n",
       "    </tr>\n",
       "    <tr>\n",
       "      <th>1</th>\n",
       "      <td>nick</td>\n",
       "      <td>23</td>\n",
       "    </tr>\n",
       "    <tr>\n",
       "      <th>2</th>\n",
       "      <td>joy</td>\n",
       "      <td>26</td>\n",
       "    </tr>\n",
       "    <tr>\n",
       "      <th>3</th>\n",
       "      <td>ishita</td>\n",
       "      <td>24</td>\n",
       "    </tr>\n",
       "  </tbody>\n",
       "</table>\n",
       "</div>"
      ],
      "text/plain": [
       "     name  age\n",
       "0   akash   25\n",
       "1    nick   23\n",
       "2     joy   26\n",
       "3  ishita   24"
      ]
     },
     "execution_count": 49,
     "metadata": {},
     "output_type": "execute_result"
    }
   ],
   "source": [
    "df3[df3.age > 15]"
   ]
  },
  {
   "cell_type": "code",
   "execution_count": 50,
   "id": "d4050d82",
   "metadata": {},
   "outputs": [],
   "source": [
    "#c. Insert 5 imaginary names and ages as values to the pandas Data Frame ."
   ]
  },
  {
   "cell_type": "code",
   "execution_count": 51,
   "id": "02b72148",
   "metadata": {},
   "outputs": [],
   "source": [
    "df3.loc[4]=['priya',21]"
   ]
  },
  {
   "cell_type": "code",
   "execution_count": 52,
   "id": "6f8ba170",
   "metadata": {},
   "outputs": [
    {
     "data": {
      "text/html": [
       "<div>\n",
       "<style scoped>\n",
       "    .dataframe tbody tr th:only-of-type {\n",
       "        vertical-align: middle;\n",
       "    }\n",
       "\n",
       "    .dataframe tbody tr th {\n",
       "        vertical-align: top;\n",
       "    }\n",
       "\n",
       "    .dataframe thead th {\n",
       "        text-align: right;\n",
       "    }\n",
       "</style>\n",
       "<table border=\"1\" class=\"dataframe\">\n",
       "  <thead>\n",
       "    <tr style=\"text-align: right;\">\n",
       "      <th></th>\n",
       "      <th>name</th>\n",
       "      <th>age</th>\n",
       "    </tr>\n",
       "  </thead>\n",
       "  <tbody>\n",
       "    <tr>\n",
       "      <th>0</th>\n",
       "      <td>akash</td>\n",
       "      <td>25</td>\n",
       "    </tr>\n",
       "    <tr>\n",
       "      <th>1</th>\n",
       "      <td>nick</td>\n",
       "      <td>23</td>\n",
       "    </tr>\n",
       "    <tr>\n",
       "      <th>2</th>\n",
       "      <td>joy</td>\n",
       "      <td>26</td>\n",
       "    </tr>\n",
       "    <tr>\n",
       "      <th>3</th>\n",
       "      <td>ishita</td>\n",
       "      <td>24</td>\n",
       "    </tr>\n",
       "    <tr>\n",
       "      <th>4</th>\n",
       "      <td>priya</td>\n",
       "      <td>21</td>\n",
       "    </tr>\n",
       "  </tbody>\n",
       "</table>\n",
       "</div>"
      ],
      "text/plain": [
       "     name  age\n",
       "0   akash   25\n",
       "1    nick   23\n",
       "2     joy   26\n",
       "3  ishita   24\n",
       "4   priya   21"
      ]
     },
     "execution_count": 52,
     "metadata": {},
     "output_type": "execute_result"
    }
   ],
   "source": [
    "df3"
   ]
  },
  {
   "cell_type": "code",
   "execution_count": 53,
   "id": "7c4933c2",
   "metadata": {},
   "outputs": [],
   "source": [
    "## task add more name and value"
   ]
  },
  {
   "cell_type": "code",
   "execution_count": 54,
   "id": "9814834e",
   "metadata": {},
   "outputs": [],
   "source": [
    "##d. Update the 5th row so that the name = john and age=56."
   ]
  },
  {
   "cell_type": "code",
   "execution_count": 56,
   "id": "94b383d5",
   "metadata": {},
   "outputs": [],
   "source": [
    "df3.loc[4,'name']='john'\n",
    "df3.loc[4,'age']=56"
   ]
  },
  {
   "cell_type": "code",
   "execution_count": 57,
   "id": "6015207e",
   "metadata": {},
   "outputs": [
    {
     "data": {
      "text/html": [
       "<div>\n",
       "<style scoped>\n",
       "    .dataframe tbody tr th:only-of-type {\n",
       "        vertical-align: middle;\n",
       "    }\n",
       "\n",
       "    .dataframe tbody tr th {\n",
       "        vertical-align: top;\n",
       "    }\n",
       "\n",
       "    .dataframe thead th {\n",
       "        text-align: right;\n",
       "    }\n",
       "</style>\n",
       "<table border=\"1\" class=\"dataframe\">\n",
       "  <thead>\n",
       "    <tr style=\"text-align: right;\">\n",
       "      <th></th>\n",
       "      <th>name</th>\n",
       "      <th>age</th>\n",
       "    </tr>\n",
       "  </thead>\n",
       "  <tbody>\n",
       "    <tr>\n",
       "      <th>0</th>\n",
       "      <td>akash</td>\n",
       "      <td>25</td>\n",
       "    </tr>\n",
       "    <tr>\n",
       "      <th>1</th>\n",
       "      <td>nick</td>\n",
       "      <td>23</td>\n",
       "    </tr>\n",
       "    <tr>\n",
       "      <th>2</th>\n",
       "      <td>joy</td>\n",
       "      <td>26</td>\n",
       "    </tr>\n",
       "    <tr>\n",
       "      <th>3</th>\n",
       "      <td>ishita</td>\n",
       "      <td>24</td>\n",
       "    </tr>\n",
       "    <tr>\n",
       "      <th>4</th>\n",
       "      <td>john</td>\n",
       "      <td>56</td>\n",
       "    </tr>\n",
       "  </tbody>\n",
       "</table>\n",
       "</div>"
      ],
      "text/plain": [
       "     name  age\n",
       "0   akash   25\n",
       "1    nick   23\n",
       "2     joy   26\n",
       "3  ishita   24\n",
       "4    john   56"
      ]
     },
     "execution_count": 57,
     "metadata": {},
     "output_type": "execute_result"
    }
   ],
   "source": [
    "df3"
   ]
  },
  {
   "cell_type": "code",
   "execution_count": 58,
   "id": "90a6847b",
   "metadata": {},
   "outputs": [],
   "source": [
    "#e. Delete the first row from the Data Frame ."
   ]
  },
  {
   "cell_type": "code",
   "execution_count": 59,
   "id": "134675f0",
   "metadata": {},
   "outputs": [
    {
     "data": {
      "text/html": [
       "<div>\n",
       "<style scoped>\n",
       "    .dataframe tbody tr th:only-of-type {\n",
       "        vertical-align: middle;\n",
       "    }\n",
       "\n",
       "    .dataframe tbody tr th {\n",
       "        vertical-align: top;\n",
       "    }\n",
       "\n",
       "    .dataframe thead th {\n",
       "        text-align: right;\n",
       "    }\n",
       "</style>\n",
       "<table border=\"1\" class=\"dataframe\">\n",
       "  <thead>\n",
       "    <tr style=\"text-align: right;\">\n",
       "      <th></th>\n",
       "      <th>name</th>\n",
       "      <th>age</th>\n",
       "    </tr>\n",
       "  </thead>\n",
       "  <tbody>\n",
       "    <tr>\n",
       "      <th>1</th>\n",
       "      <td>nick</td>\n",
       "      <td>23</td>\n",
       "    </tr>\n",
       "    <tr>\n",
       "      <th>2</th>\n",
       "      <td>joy</td>\n",
       "      <td>26</td>\n",
       "    </tr>\n",
       "    <tr>\n",
       "      <th>3</th>\n",
       "      <td>ishita</td>\n",
       "      <td>24</td>\n",
       "    </tr>\n",
       "    <tr>\n",
       "      <th>4</th>\n",
       "      <td>john</td>\n",
       "      <td>56</td>\n",
       "    </tr>\n",
       "  </tbody>\n",
       "</table>\n",
       "</div>"
      ],
      "text/plain": [
       "     name  age\n",
       "1    nick   23\n",
       "2     joy   26\n",
       "3  ishita   24\n",
       "4    john   56"
      ]
     },
     "execution_count": 59,
     "metadata": {},
     "output_type": "execute_result"
    }
   ],
   "source": [
    "df3.drop(0)"
   ]
  },
  {
   "cell_type": "code",
   "execution_count": 60,
   "id": "c9a32e20",
   "metadata": {},
   "outputs": [],
   "source": [
    "#10. For the Data Frame obtained from step 9, convert the same to a list and a dictionary\n",
    "#respectively.\n"
   ]
  },
  {
   "cell_type": "code",
   "execution_count": 63,
   "id": "ce5711a9",
   "metadata": {},
   "outputs": [
    {
     "data": {
      "text/plain": [
       "[array(['akash', 25], dtype=object),\n",
       " array(['nick', 23], dtype=object),\n",
       " array(['joy', 26], dtype=object),\n",
       " array(['ishita', 24], dtype=object),\n",
       " array(['john', 56], dtype=object)]"
      ]
     },
     "execution_count": 63,
     "metadata": {},
     "output_type": "execute_result"
    }
   ],
   "source": [
    "l3 = list(df3.values)\n",
    "l3"
   ]
  },
  {
   "cell_type": "code",
   "execution_count": 64,
   "id": "9d86bd43",
   "metadata": {},
   "outputs": [
    {
     "data": {
      "text/plain": [
       "{'akash': 25, 'nick': 23, 'joy': 26, 'ishita': 24, 'john': 56}"
      ]
     },
     "execution_count": 64,
     "metadata": {},
     "output_type": "execute_result"
    }
   ],
   "source": [
    "d3=dict(df3.values)\n",
    "d3"
   ]
  },
  {
   "cell_type": "code",
   "execution_count": 65,
   "id": "5d175f94",
   "metadata": {},
   "outputs": [],
   "source": [
    "##11. Create two separate Data Frame s A and B, and perform the following operations on\n",
    "##them.\n",
    "#a. Concatenate the two Data Frame s to a new Data Frame C."
   ]
  },
  {
   "cell_type": "code",
   "execution_count": 68,
   "id": "90527817",
   "metadata": {},
   "outputs": [
    {
     "name": "stdout",
     "output_type": "stream",
     "text": [
      "Data frame A: \n",
      "      A\n",
      "0    1\n",
      "1    2\n",
      "2    3\n",
      "3    4\n",
      "4    5\n",
      "5    6\n",
      "6    7\n",
      "7    8\n",
      "8    9\n",
      "9   10\n",
      "10  11\n",
      "11  12\n",
      "12  13\n",
      "13  14\n",
      "14  15\n",
      "15  16\n",
      "16  17\n",
      "17  18\n",
      "18  19\n",
      "19  20\n",
      "\n",
      "Data frame B: \n",
      "      B\n",
      "0   20\n",
      "1   19\n",
      "2   18\n",
      "3   17\n",
      "4   16\n",
      "5   15\n",
      "6   14\n",
      "7   13\n",
      "8   12\n",
      "9   11\n",
      "10  10\n",
      "11   9\n",
      "12   8\n",
      "13   7\n",
      "14   6\n",
      "15   5\n",
      "16   4\n",
      "17   3\n",
      "18   2\n",
      "19   1\n"
     ]
    }
   ],
   "source": [
    "## create data frame.\n",
    "A= pd.DataFrame(list(range(1,20+1)),columns=[\"A\"])\n",
    "print(\"Data frame A: \\n\" , A)\n",
    "B=pd.DataFrame(list(range(20,0,-1)),columns=[\"B\"])\n",
    "print(\"\\nData frame B: \\n\", B)\n"
   ]
  },
  {
   "cell_type": "code",
   "execution_count": 69,
   "id": "387d3111",
   "metadata": {},
   "outputs": [],
   "source": [
    "#a. Concatenate the two Data Frame s to a new Data Frame C."
   ]
  },
  {
   "cell_type": "code",
   "execution_count": 71,
   "id": "e3aaf270",
   "metadata": {},
   "outputs": [
    {
     "data": {
      "text/html": [
       "<div>\n",
       "<style scoped>\n",
       "    .dataframe tbody tr th:only-of-type {\n",
       "        vertical-align: middle;\n",
       "    }\n",
       "\n",
       "    .dataframe tbody tr th {\n",
       "        vertical-align: top;\n",
       "    }\n",
       "\n",
       "    .dataframe thead th {\n",
       "        text-align: right;\n",
       "    }\n",
       "</style>\n",
       "<table border=\"1\" class=\"dataframe\">\n",
       "  <thead>\n",
       "    <tr style=\"text-align: right;\">\n",
       "      <th></th>\n",
       "      <th>A</th>\n",
       "      <th>B</th>\n",
       "    </tr>\n",
       "  </thead>\n",
       "  <tbody>\n",
       "    <tr>\n",
       "      <th>0</th>\n",
       "      <td>1</td>\n",
       "      <td>20</td>\n",
       "    </tr>\n",
       "    <tr>\n",
       "      <th>1</th>\n",
       "      <td>2</td>\n",
       "      <td>19</td>\n",
       "    </tr>\n",
       "    <tr>\n",
       "      <th>2</th>\n",
       "      <td>3</td>\n",
       "      <td>18</td>\n",
       "    </tr>\n",
       "    <tr>\n",
       "      <th>3</th>\n",
       "      <td>4</td>\n",
       "      <td>17</td>\n",
       "    </tr>\n",
       "    <tr>\n",
       "      <th>4</th>\n",
       "      <td>5</td>\n",
       "      <td>16</td>\n",
       "    </tr>\n",
       "    <tr>\n",
       "      <th>5</th>\n",
       "      <td>6</td>\n",
       "      <td>15</td>\n",
       "    </tr>\n",
       "    <tr>\n",
       "      <th>6</th>\n",
       "      <td>7</td>\n",
       "      <td>14</td>\n",
       "    </tr>\n",
       "    <tr>\n",
       "      <th>7</th>\n",
       "      <td>8</td>\n",
       "      <td>13</td>\n",
       "    </tr>\n",
       "    <tr>\n",
       "      <th>8</th>\n",
       "      <td>9</td>\n",
       "      <td>12</td>\n",
       "    </tr>\n",
       "    <tr>\n",
       "      <th>9</th>\n",
       "      <td>10</td>\n",
       "      <td>11</td>\n",
       "    </tr>\n",
       "    <tr>\n",
       "      <th>10</th>\n",
       "      <td>11</td>\n",
       "      <td>10</td>\n",
       "    </tr>\n",
       "    <tr>\n",
       "      <th>11</th>\n",
       "      <td>12</td>\n",
       "      <td>9</td>\n",
       "    </tr>\n",
       "    <tr>\n",
       "      <th>12</th>\n",
       "      <td>13</td>\n",
       "      <td>8</td>\n",
       "    </tr>\n",
       "    <tr>\n",
       "      <th>13</th>\n",
       "      <td>14</td>\n",
       "      <td>7</td>\n",
       "    </tr>\n",
       "    <tr>\n",
       "      <th>14</th>\n",
       "      <td>15</td>\n",
       "      <td>6</td>\n",
       "    </tr>\n",
       "    <tr>\n",
       "      <th>15</th>\n",
       "      <td>16</td>\n",
       "      <td>5</td>\n",
       "    </tr>\n",
       "    <tr>\n",
       "      <th>16</th>\n",
       "      <td>17</td>\n",
       "      <td>4</td>\n",
       "    </tr>\n",
       "    <tr>\n",
       "      <th>17</th>\n",
       "      <td>18</td>\n",
       "      <td>3</td>\n",
       "    </tr>\n",
       "    <tr>\n",
       "      <th>18</th>\n",
       "      <td>19</td>\n",
       "      <td>2</td>\n",
       "    </tr>\n",
       "    <tr>\n",
       "      <th>19</th>\n",
       "      <td>20</td>\n",
       "      <td>1</td>\n",
       "    </tr>\n",
       "  </tbody>\n",
       "</table>\n",
       "</div>"
      ],
      "text/plain": [
       "     A   B\n",
       "0    1  20\n",
       "1    2  19\n",
       "2    3  18\n",
       "3    4  17\n",
       "4    5  16\n",
       "5    6  15\n",
       "6    7  14\n",
       "7    8  13\n",
       "8    9  12\n",
       "9   10  11\n",
       "10  11  10\n",
       "11  12   9\n",
       "12  13   8\n",
       "13  14   7\n",
       "14  15   6\n",
       "15  16   5\n",
       "16  17   4\n",
       "17  18   3\n",
       "18  19   2\n",
       "19  20   1"
      ]
     },
     "execution_count": 71,
     "metadata": {},
     "output_type": "execute_result"
    }
   ],
   "source": [
    "C = pd.concat([A,B], axis=1)\n",
    "C"
   ]
  },
  {
   "cell_type": "code",
   "execution_count": 72,
   "id": "2191ef26",
   "metadata": {},
   "outputs": [],
   "source": [
    "##b. Split the Data Frame C row wise.\n"
   ]
  },
  {
   "cell_type": "code",
   "execution_count": 77,
   "id": "8ca3ccf2",
   "metadata": {},
   "outputs": [
    {
     "name": "stdout",
     "output_type": "stream",
     "text": [
      "   A   B\n",
      "0  1  20\n",
      "1  2  19\n",
      "2  3  18\n",
      "3  4  17\n",
      "4  5  16\n"
     ]
    }
   ],
   "source": [
    "split_C= C.iloc[0:5,:]\n",
    "print(split_C)"
   ]
  },
  {
   "cell_type": "code",
   "execution_count": 78,
   "id": "56fbfca9",
   "metadata": {},
   "outputs": [
    {
     "name": "stdout",
     "output_type": "stream",
     "text": [
      "     A   B\n",
      "6    7  14\n",
      "7    8  13\n",
      "8    9  12\n",
      "9   10  11\n",
      "10  11  10\n",
      "11  12   9\n",
      "12  13   8\n",
      "13  14   7\n",
      "14  15   6\n",
      "15  16   5\n",
      "16  17   4\n",
      "17  18   3\n",
      "18  19   2\n",
      "19  20   1\n"
     ]
    }
   ],
   "source": [
    "split_C= C.iloc[6:,:]\n",
    "print(split_C)"
   ]
  },
  {
   "cell_type": "code",
   "execution_count": 79,
   "id": "0024ea8e",
   "metadata": {},
   "outputs": [],
   "source": [
    "##c. Split the Data Frame column wise based on a condition. For example - columns\n",
    "##values greater than 10, column values less than 10, etc.\n"
   ]
  },
  {
   "cell_type": "code",
   "execution_count": 80,
   "id": "7aa33ff1",
   "metadata": {},
   "outputs": [
    {
     "name": "stdout",
     "output_type": "stream",
     "text": [
      "values grter thn 10: \n",
      "      A   B\n",
      "0    1  20\n",
      "1    2  19\n",
      "2    3  18\n",
      "3    4  17\n",
      "4    5  16\n",
      "5    6  15\n",
      "6    7  14\n",
      "7    8  13\n",
      "8    9  12\n",
      "9   10  11\n",
      "10  11  10\n"
     ]
    }
   ],
   "source": [
    "greater_10 = C[\"B\"]>=10\n",
    "c_10= C[greater_10]\n",
    "print(\"values grter thn 10: \\n\", c_10)"
   ]
  },
  {
   "cell_type": "code",
   "execution_count": 81,
   "id": "e3565408",
   "metadata": {},
   "outputs": [],
   "source": [
    "### task write less thn"
   ]
  },
  {
   "cell_type": "code",
   "execution_count": 82,
   "id": "101ca898",
   "metadata": {},
   "outputs": [],
   "source": [
    "##12. Create a Data Frame with columns Name and Age. Perform the following operations.\n",
    "##a. Write a sample code to search for the Name/Names where Age is 20.\n",
    "##b. Sort the Data Frame in ascending order of ages.\n",
    "##c. Using Python loops, print the ages from the data frame and store it in a set"
   ]
  },
  {
   "cell_type": "code",
   "execution_count": 83,
   "id": "fce5d8c6",
   "metadata": {},
   "outputs": [],
   "source": [
    "df4 = pd.DataFrame.from_dict({'name':['jenny','matt','kristan','jenny','matt','kristan','jenny','matt','kristan'],\n",
    "                             'age':[20,21,32,20,21,17,23,24,35],\n",
    "                             'gender':['F','M','F','F','F','M','F','F','F']})"
   ]
  },
  {
   "cell_type": "code",
   "execution_count": 84,
   "id": "766ceb02",
   "metadata": {},
   "outputs": [
    {
     "data": {
      "text/html": [
       "<div>\n",
       "<style scoped>\n",
       "    .dataframe tbody tr th:only-of-type {\n",
       "        vertical-align: middle;\n",
       "    }\n",
       "\n",
       "    .dataframe tbody tr th {\n",
       "        vertical-align: top;\n",
       "    }\n",
       "\n",
       "    .dataframe thead th {\n",
       "        text-align: right;\n",
       "    }\n",
       "</style>\n",
       "<table border=\"1\" class=\"dataframe\">\n",
       "  <thead>\n",
       "    <tr style=\"text-align: right;\">\n",
       "      <th></th>\n",
       "      <th>name</th>\n",
       "      <th>age</th>\n",
       "      <th>gender</th>\n",
       "    </tr>\n",
       "  </thead>\n",
       "  <tbody>\n",
       "    <tr>\n",
       "      <th>0</th>\n",
       "      <td>jenny</td>\n",
       "      <td>20</td>\n",
       "      <td>F</td>\n",
       "    </tr>\n",
       "    <tr>\n",
       "      <th>1</th>\n",
       "      <td>matt</td>\n",
       "      <td>21</td>\n",
       "      <td>M</td>\n",
       "    </tr>\n",
       "    <tr>\n",
       "      <th>2</th>\n",
       "      <td>kristan</td>\n",
       "      <td>32</td>\n",
       "      <td>F</td>\n",
       "    </tr>\n",
       "    <tr>\n",
       "      <th>3</th>\n",
       "      <td>jenny</td>\n",
       "      <td>20</td>\n",
       "      <td>F</td>\n",
       "    </tr>\n",
       "    <tr>\n",
       "      <th>4</th>\n",
       "      <td>matt</td>\n",
       "      <td>21</td>\n",
       "      <td>F</td>\n",
       "    </tr>\n",
       "    <tr>\n",
       "      <th>5</th>\n",
       "      <td>kristan</td>\n",
       "      <td>17</td>\n",
       "      <td>M</td>\n",
       "    </tr>\n",
       "    <tr>\n",
       "      <th>6</th>\n",
       "      <td>jenny</td>\n",
       "      <td>23</td>\n",
       "      <td>F</td>\n",
       "    </tr>\n",
       "    <tr>\n",
       "      <th>7</th>\n",
       "      <td>matt</td>\n",
       "      <td>24</td>\n",
       "      <td>F</td>\n",
       "    </tr>\n",
       "    <tr>\n",
       "      <th>8</th>\n",
       "      <td>kristan</td>\n",
       "      <td>35</td>\n",
       "      <td>F</td>\n",
       "    </tr>\n",
       "  </tbody>\n",
       "</table>\n",
       "</div>"
      ],
      "text/plain": [
       "      name  age gender\n",
       "0    jenny   20      F\n",
       "1     matt   21      M\n",
       "2  kristan   32      F\n",
       "3    jenny   20      F\n",
       "4     matt   21      F\n",
       "5  kristan   17      M\n",
       "6    jenny   23      F\n",
       "7     matt   24      F\n",
       "8  kristan   35      F"
      ]
     },
     "execution_count": 84,
     "metadata": {},
     "output_type": "execute_result"
    }
   ],
   "source": [
    "df4"
   ]
  },
  {
   "cell_type": "code",
   "execution_count": 85,
   "id": "548f3448",
   "metadata": {},
   "outputs": [],
   "source": [
    "##a. Write a sample code to search for the Name/Names where Age is 20."
   ]
  },
  {
   "cell_type": "code",
   "execution_count": 86,
   "id": "8a7836aa",
   "metadata": {},
   "outputs": [
    {
     "data": {
      "text/html": [
       "<div>\n",
       "<style scoped>\n",
       "    .dataframe tbody tr th:only-of-type {\n",
       "        vertical-align: middle;\n",
       "    }\n",
       "\n",
       "    .dataframe tbody tr th {\n",
       "        vertical-align: top;\n",
       "    }\n",
       "\n",
       "    .dataframe thead th {\n",
       "        text-align: right;\n",
       "    }\n",
       "</style>\n",
       "<table border=\"1\" class=\"dataframe\">\n",
       "  <thead>\n",
       "    <tr style=\"text-align: right;\">\n",
       "      <th></th>\n",
       "      <th>name</th>\n",
       "      <th>age</th>\n",
       "      <th>gender</th>\n",
       "    </tr>\n",
       "  </thead>\n",
       "  <tbody>\n",
       "    <tr>\n",
       "      <th>0</th>\n",
       "      <td>jenny</td>\n",
       "      <td>20</td>\n",
       "      <td>F</td>\n",
       "    </tr>\n",
       "    <tr>\n",
       "      <th>3</th>\n",
       "      <td>jenny</td>\n",
       "      <td>20</td>\n",
       "      <td>F</td>\n",
       "    </tr>\n",
       "  </tbody>\n",
       "</table>\n",
       "</div>"
      ],
      "text/plain": [
       "    name  age gender\n",
       "0  jenny   20      F\n",
       "3  jenny   20      F"
      ]
     },
     "execution_count": 86,
     "metadata": {},
     "output_type": "execute_result"
    }
   ],
   "source": [
    "df4[df4.age==20]"
   ]
  },
  {
   "cell_type": "code",
   "execution_count": 87,
   "id": "81b34737",
   "metadata": {},
   "outputs": [],
   "source": [
    "###b. Sort the Data Frame in ascending order of ages."
   ]
  },
  {
   "cell_type": "code",
   "execution_count": 88,
   "id": "4909d72a",
   "metadata": {},
   "outputs": [
    {
     "data": {
      "text/html": [
       "<div>\n",
       "<style scoped>\n",
       "    .dataframe tbody tr th:only-of-type {\n",
       "        vertical-align: middle;\n",
       "    }\n",
       "\n",
       "    .dataframe tbody tr th {\n",
       "        vertical-align: top;\n",
       "    }\n",
       "\n",
       "    .dataframe thead th {\n",
       "        text-align: right;\n",
       "    }\n",
       "</style>\n",
       "<table border=\"1\" class=\"dataframe\">\n",
       "  <thead>\n",
       "    <tr style=\"text-align: right;\">\n",
       "      <th></th>\n",
       "      <th>name</th>\n",
       "      <th>age</th>\n",
       "      <th>gender</th>\n",
       "    </tr>\n",
       "  </thead>\n",
       "  <tbody>\n",
       "    <tr>\n",
       "      <th>5</th>\n",
       "      <td>kristan</td>\n",
       "      <td>17</td>\n",
       "      <td>M</td>\n",
       "    </tr>\n",
       "    <tr>\n",
       "      <th>0</th>\n",
       "      <td>jenny</td>\n",
       "      <td>20</td>\n",
       "      <td>F</td>\n",
       "    </tr>\n",
       "    <tr>\n",
       "      <th>3</th>\n",
       "      <td>jenny</td>\n",
       "      <td>20</td>\n",
       "      <td>F</td>\n",
       "    </tr>\n",
       "    <tr>\n",
       "      <th>1</th>\n",
       "      <td>matt</td>\n",
       "      <td>21</td>\n",
       "      <td>M</td>\n",
       "    </tr>\n",
       "    <tr>\n",
       "      <th>4</th>\n",
       "      <td>matt</td>\n",
       "      <td>21</td>\n",
       "      <td>F</td>\n",
       "    </tr>\n",
       "    <tr>\n",
       "      <th>6</th>\n",
       "      <td>jenny</td>\n",
       "      <td>23</td>\n",
       "      <td>F</td>\n",
       "    </tr>\n",
       "    <tr>\n",
       "      <th>7</th>\n",
       "      <td>matt</td>\n",
       "      <td>24</td>\n",
       "      <td>F</td>\n",
       "    </tr>\n",
       "    <tr>\n",
       "      <th>2</th>\n",
       "      <td>kristan</td>\n",
       "      <td>32</td>\n",
       "      <td>F</td>\n",
       "    </tr>\n",
       "    <tr>\n",
       "      <th>8</th>\n",
       "      <td>kristan</td>\n",
       "      <td>35</td>\n",
       "      <td>F</td>\n",
       "    </tr>\n",
       "  </tbody>\n",
       "</table>\n",
       "</div>"
      ],
      "text/plain": [
       "      name  age gender\n",
       "5  kristan   17      M\n",
       "0    jenny   20      F\n",
       "3    jenny   20      F\n",
       "1     matt   21      M\n",
       "4     matt   21      F\n",
       "6    jenny   23      F\n",
       "7     matt   24      F\n",
       "2  kristan   32      F\n",
       "8  kristan   35      F"
      ]
     },
     "execution_count": 88,
     "metadata": {},
     "output_type": "execute_result"
    }
   ],
   "source": [
    "df4.sort_values(by='age')"
   ]
  },
  {
   "cell_type": "code",
   "execution_count": 89,
   "id": "9bcf6a36",
   "metadata": {},
   "outputs": [],
   "source": [
    "##c. Using Python loops, print the ages from the data frame and store it in a set"
   ]
  },
  {
   "cell_type": "code",
   "execution_count": 90,
   "id": "eba15138",
   "metadata": {},
   "outputs": [
    {
     "name": "stdout",
     "output_type": "stream",
     "text": [
      "[20, 21, 32, 20, 21, 17, 23, 24, 35]\n",
      "{32, 35, 17, 20, 21, 23, 24}\n"
     ]
    }
   ],
   "source": [
    "l = []\n",
    "for i in range(len(df4)):\n",
    "    l.append(df4.loc[i,'age'])\n",
    "print(l)\n",
    "set1=set(l)\n",
    "print(set1)"
   ]
  },
  {
   "cell_type": "code",
   "execution_count": null,
   "id": "58d1cc20",
   "metadata": {},
   "outputs": [],
   "source": []
  }
 ],
 "metadata": {
  "kernelspec": {
   "display_name": "Python 3 (ipykernel)",
   "language": "python",
   "name": "python3"
  },
  "language_info": {
   "codemirror_mode": {
    "name": "ipython",
    "version": 3
   },
   "file_extension": ".py",
   "mimetype": "text/x-python",
   "name": "python",
   "nbconvert_exporter": "python",
   "pygments_lexer": "ipython3",
   "version": "3.9.7"
  }
 },
 "nbformat": 4,
 "nbformat_minor": 5
}
